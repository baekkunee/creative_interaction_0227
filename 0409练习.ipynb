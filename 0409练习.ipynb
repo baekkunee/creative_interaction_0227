{
 "cells": [
  {
   "cell_type": "code",
   "execution_count": 13,
   "id": "d1b14067",
   "metadata": {},
   "outputs": [
    {
     "name": "stdout",
     "output_type": "stream",
     "text": [
      "(1, 1.32, 2, 'cuc')\n",
      "[1, 1.32, 2, 'cuc']\n"
     ]
    }
   ],
   "source": [
    "tuple1=(1,1.32,2,\"cuc\")\n",
    "print(tuple1)\n",
    "list1=[1,1.32,2,\"cuc\"]\n",
    "print(list1)"
   ]
  },
  {
   "cell_type": "code",
   "execution_count": 14,
   "id": "a165512e",
   "metadata": {},
   "outputs": [
    {
     "name": "stdout",
     "output_type": "stream",
     "text": [
      "[1, 2, 3, 4, 5]\n"
     ]
    }
   ],
   "source": [
    "#排序\n",
    "myList=[1,2,4,3,5]\n",
    "print(sorted(myList))"
   ]
  },
  {
   "cell_type": "code",
   "execution_count": 15,
   "id": "78b0a2f5",
   "metadata": {},
   "outputs": [
    {
     "name": "stdout",
     "output_type": "stream",
     "text": [
      "[100, 95, 89, 99]\n",
      "99\n",
      "[100, 95, 89, 99, 50]\n"
     ]
    }
   ],
   "source": [
    "score_list=[100,95,89,99]\n",
    "print(score_list)\n",
    "print(score_list[3])\n",
    "score_list.append(50)\n",
    "print(score_list)"
   ]
  },
  {
   "cell_type": "code",
   "execution_count": 24,
   "id": "d858f641",
   "metadata": {},
   "outputs": [],
   "source": [
    "second_list=[12,65,34]\n",
    "second_list.append([1,'qwei love you','hahaha'])\n",
    "score_list.append(second_list)"
   ]
  },
  {
   "cell_type": "code",
   "execution_count": 17,
   "id": "d4384828",
   "metadata": {},
   "outputs": [
    {
     "name": "stdout",
     "output_type": "stream",
     "text": [
      "[{'peter': 50, 'cinder': 100, 'mary': 80, 'cherry': 95}, {'peter': 70, 'cinder': 100, 'mary': 90, 'cherry': 97}]\n"
     ]
    }
   ],
   "source": [
    "test1={'peter':50,'cinder':100,'mary':80,'cherry':95}\n",
    "assignment={'peter':70,'cinder':100,'mary':90,'cherry':97}\n",
    "score_list=[]\n",
    "score_list.append(test1)\n",
    "score_list.append(assignment)\n",
    "print(score_list)"
   ]
  },
  {
   "cell_type": "code",
   "execution_count": 18,
   "id": "b71de2a1",
   "metadata": {},
   "outputs": [
    {
     "name": "stdout",
     "output_type": "stream",
     "text": [
      "John makes 1950.0.\n",
      "Mike makes 0.0.\n",
      "Mary makes 2600.0.\n",
      "Jane makes 3750.0.\n"
     ]
    }
   ],
   "source": [
    "hrs_list=[30,0,40.0,50.0,60.0]\n",
    "rate_list = [65.0,75.0,65.0,75.0]\n",
    "name_list = ['John','Mike','Mary','Jane']\n",
    "fee_list=[]\n",
    "for number in range (len(name_list)):\n",
    "    hrs=hrs_list[number]\n",
    "    rate = rate_list[number]\n",
    "    fee = hrs * rate\n",
    "    fee_list.append(fee)\n",
    "    money_made = name_list[number] + \" makes \" + str(fee) + \".\"\n",
    "    print(money_made)"
   ]
  },
  {
   "cell_type": "code",
   "execution_count": 19,
   "id": "fba27850",
   "metadata": {},
   "outputs": [
    {
     "ename": "IndexError",
     "evalue": "list assignment index out of range",
     "output_type": "error",
     "traceback": [
      "\u001b[1;31m---------------------------------------------------------------------------\u001b[0m",
      "\u001b[1;31mIndexError\u001b[0m                                Traceback (most recent call last)",
      "\u001b[1;32m~\\AppData\\Local\\Temp\\ipykernel_17028\\827049680.py\u001b[0m in \u001b[0;36m<module>\u001b[1;34m\u001b[0m\n\u001b[1;32m----> 1\u001b[1;33m \u001b[1;32mdel\u001b[0m\u001b[1;33m(\u001b[0m\u001b[0mscore_list\u001b[0m\u001b[1;33m[\u001b[0m\u001b[1;36m2\u001b[0m\u001b[1;33m]\u001b[0m\u001b[1;33m)\u001b[0m\u001b[1;33m\u001b[0m\u001b[1;33m\u001b[0m\u001b[0m\n\u001b[0m\u001b[0;32m      2\u001b[0m \u001b[0mprint\u001b[0m\u001b[1;33m(\u001b[0m\u001b[0mscore_list\u001b[0m\u001b[1;33m[\u001b[0m\u001b[1;36m2\u001b[0m\u001b[1;33m:\u001b[0m\u001b[1;36m3\u001b[0m\u001b[1;33m]\u001b[0m\u001b[1;33m)\u001b[0m\u001b[1;33m\u001b[0m\u001b[1;33m\u001b[0m\u001b[0m\n\u001b[0;32m      3\u001b[0m \u001b[0mprint\u001b[0m\u001b[1;33m(\u001b[0m\u001b[0mscore_list\u001b[0m\u001b[1;33m)\u001b[0m\u001b[1;33m\u001b[0m\u001b[1;33m\u001b[0m\u001b[0m\n",
      "\u001b[1;31mIndexError\u001b[0m: list assignment index out of range"
     ]
    }
   ],
   "source": [
    "del(score_list[2])\n",
    "print(score_list[2:3])\n",
    "print(score_list)"
   ]
  },
  {
   "cell_type": "code",
   "execution_count": 20,
   "id": "0dead3af",
   "metadata": {},
   "outputs": [
    {
     "ename": "TypeError",
     "evalue": "list.append() takes exactly one argument (5 given)",
     "output_type": "error",
     "traceback": [
      "\u001b[1;31m---------------------------------------------------------------------------\u001b[0m",
      "\u001b[1;31mTypeError\u001b[0m                                 Traceback (most recent call last)",
      "\u001b[1;32m~\\AppData\\Local\\Temp\\ipykernel_17028\\3384739438.py\u001b[0m in \u001b[0;36m<module>\u001b[1;34m\u001b[0m\n\u001b[1;32m----> 1\u001b[1;33m \u001b[0mscore_list\u001b[0m\u001b[1;33m.\u001b[0m\u001b[0mappend\u001b[0m\u001b[1;33m(\u001b[0m\u001b[1;36m1\u001b[0m\u001b[1;33m,\u001b[0m\u001b[1;36m2\u001b[0m\u001b[1;33m,\u001b[0m\u001b[1;36m3\u001b[0m\u001b[1;33m,\u001b[0m\u001b[1;34m\"im from cuc\"\u001b[0m\u001b[1;33m,\u001b[0m\u001b[1;32mTrue\u001b[0m\u001b[1;33m)\u001b[0m\u001b[1;33m\u001b[0m\u001b[1;33m\u001b[0m\u001b[0m\n\u001b[0m\u001b[0;32m      2\u001b[0m \u001b[0mprint\u001b[0m\u001b[1;33m(\u001b[0m\u001b[0mscore_list\u001b[0m\u001b[1;33m)\u001b[0m\u001b[1;33m\u001b[0m\u001b[1;33m\u001b[0m\u001b[0m\n",
      "\u001b[1;31mTypeError\u001b[0m: list.append() takes exactly one argument (5 given)"
     ]
    }
   ],
   "source": [
    "score_list.append(1,2,3,\"im from cuc\",True)\n",
    "print(score_list)"
   ]
  },
  {
   "cell_type": "code",
   "execution_count": 21,
   "id": "014201e7",
   "metadata": {},
   "outputs": [
    {
     "name": "stdout",
     "output_type": "stream",
     "text": [
      "{'peter': 80, 'david': 90, 'mary': 100}\n",
      "dict_keys(['peter', 'david', 'mary'])\n",
      "dict_values([80, 90, 100])\n",
      "90\n",
      "[{'peter': 80, 'david': 90, 'mary': 100}]\n"
     ]
    }
   ],
   "source": [
    "dict1={\"peter\":80,\"david\":90,\"mary\":100}\n",
    "print(dict1)\n",
    "print(dict1.keys())\n",
    "print(dict1.values())\n",
    "print(dict1[\"david\"])\n",
    "score_list=[]\n",
    "score_list.append(dict1)\n",
    "print(score_list)"
   ]
  },
  {
   "cell_type": "code",
   "execution_count": 22,
   "id": "891f9c07",
   "metadata": {},
   "outputs": [
    {
     "name": "stdout",
     "output_type": "stream",
     "text": [
      "0 red\n",
      "1 blue is printed.\n",
      "2 green\n",
      "3 orange\n",
      "4 black\n",
      "this is done.\n"
     ]
    }
   ],
   "source": [
    "my_list=[\"red\",\"blue\",\"green\",\"orange\",\"black\"]\n",
    "index=0\n",
    "for i in my_list:\n",
    "    if i==\"blue\":\n",
    "        print(index,\"blue is printed.\")\n",
    "        index+=1\n",
    "    else:\n",
    "        print(index,my_list[index])\n",
    "        index=index+1\n",
    "print(\"this is done.\")"
   ]
  },
  {
   "cell_type": "code",
   "execution_count": 23,
   "id": "51a40158",
   "metadata": {},
   "outputs": [
    {
     "name": "stdout",
     "output_type": "stream",
     "text": [
      "   Product ID Product NAME   Color  Units sold\n",
      "0           1      T-shirt    Blue         250\n",
      "1           2        Shirt   Green         300\n",
      "2           3        Jeans     Red         180\n",
      "3           4         Coat  Trench         200\n"
     ]
    }
   ],
   "source": [
    "import pandas as pd\n",
    "df1=pd.DataFrame({\n",
    "    \"Product ID\":[1,2,3,4],\n",
    "    \"Product NAME\":[\"T-shirt\",\"Shirt\",\"Jeans\",\"Coat\"],\n",
    "    \"Color\":[\"Blue\",\"Green\",\"Red\",\"Trench\"],\n",
    "    \"Units sold\":[250,300,180,200]\n",
    "})\n",
    "print(df1)"
   ]
  },
  {
   "cell_type": "code",
   "execution_count": null,
   "id": "648fbec7",
   "metadata": {},
   "outputs": [],
   "source": []
  },
  {
   "cell_type": "code",
   "execution_count": null,
   "id": "db6107a5",
   "metadata": {},
   "outputs": [],
   "source": []
  },
  {
   "cell_type": "code",
   "execution_count": null,
   "id": "4ed27bd4",
   "metadata": {},
   "outputs": [],
   "source": []
  }
 ],
 "metadata": {
  "kernelspec": {
   "display_name": "Python 3 (ipykernel)",
   "language": "python",
   "name": "python3"
  },
  "language_info": {
   "codemirror_mode": {
    "name": "ipython",
    "version": 3
   },
   "file_extension": ".py",
   "mimetype": "text/x-python",
   "name": "python",
   "nbconvert_exporter": "python",
   "pygments_lexer": "ipython3",
   "version": "3.9.13"
  }
 },
 "nbformat": 4,
 "nbformat_minor": 5
}
